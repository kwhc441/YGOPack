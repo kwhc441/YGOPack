{
  "nbformat": 4,
  "nbformat_minor": 0,
  "metadata": {
    "colab": {
      "name": "cardlistbypack.ipynb",
      "provenance": [],
      "authorship_tag": "ABX9TyN1/1yHlXw0Jlfm+vB3DIwK",
      "include_colab_link": true
    },
    "kernelspec": {
      "name": "python3",
      "display_name": "Python 3"
    },
    "language_info": {
      "name": "python"
    }
  },
  "cells": [
    {
      "cell_type": "markdown",
      "metadata": {
        "id": "view-in-github",
        "colab_type": "text"
      },
      "source": [
        "<a href=\"https://colab.research.google.com/github/kwhc441/YGOPack/blob/main/cardlistbypack.ipynb\" target=\"_parent\"><img src=\"https://colab.research.google.com/assets/colab-badge.svg\" alt=\"Open In Colab\"/></a>"
      ]
    },
    {
      "cell_type": "code",
      "execution_count": 7,
      "metadata": {
        "colab": {
          "base_uri": "https://localhost:8080/"
        },
        "id": "Rt3S-cJbTZ9X",
        "outputId": "3c7efa84-aed8-435f-e91e-a976c4e567a1"
      },
      "outputs": [
        {
          "output_type": "stream",
          "name": "stdout",
          "text": [
            "Requirement already satisfied: selenium in /usr/local/lib/python3.7/dist-packages (4.1.0)\n",
            "\u001b[31mERROR: Could not find a version that satisfies the requirement tkinter (from versions: none)\u001b[0m\n",
            "\u001b[31mERROR: No matching distribution found for tkinter\u001b[0m\n",
            "Ign:1 https://developer.download.nvidia.com/compute/cuda/repos/ubuntu1804/x86_64  InRelease\n",
            "Hit:2 https://cloud.r-project.org/bin/linux/ubuntu bionic-cran40/ InRelease\n",
            "Ign:3 https://developer.download.nvidia.com/compute/machine-learning/repos/ubuntu1804/x86_64  InRelease\n",
            "Hit:4 https://developer.download.nvidia.com/compute/cuda/repos/ubuntu1804/x86_64  Release\n",
            "Hit:5 http://ppa.launchpad.net/c2d4u.team/c2d4u4.0+/ubuntu bionic InRelease\n",
            "Hit:6 https://developer.download.nvidia.com/compute/machine-learning/repos/ubuntu1804/x86_64  Release\n",
            "Hit:7 http://archive.ubuntu.com/ubuntu bionic InRelease\n",
            "Hit:8 http://security.ubuntu.com/ubuntu bionic-security InRelease\n",
            "Hit:9 http://archive.ubuntu.com/ubuntu bionic-updates InRelease\n",
            "Hit:10 http://ppa.launchpad.net/cran/libgit2/ubuntu bionic InRelease\n",
            "Hit:11 http://archive.ubuntu.com/ubuntu bionic-backports InRelease\n",
            "Hit:13 http://ppa.launchpad.net/deadsnakes/ppa/ubuntu bionic InRelease\n",
            "Hit:14 http://ppa.launchpad.net/graphics-drivers/ppa/ubuntu bionic InRelease\n",
            "Reading package lists... Done\n",
            "Reading package lists... Done\n",
            "Building dependency tree       \n",
            "Reading state information... Done\n",
            "chromium-chromedriver is already the newest version (95.0.4638.69-0ubuntu0.18.04.1).\n",
            "0 upgraded, 0 newly installed, 0 to remove and 67 not upgraded.\n",
            "cp: '/usr/lib/chromium-browser/chromedriver' and '/usr/bin/chromedriver' are the same file\n"
          ]
        }
      ],
      "source": [
        "!pip install selenium tkinter\n",
        "!apt-get update\n",
        "!apt install chromium-chromedriver\n",
        "!cp /usr/lib/chromium-browser/chromedriver /usr/bin\n"
      ]
    },
    {
      "cell_type": "code",
      "source": [
        "from selenium import webdriver\n",
        "import tkinter as tk\n",
        "import tkinter.ttk as ttk\n",
        "#chromeのオプション設定\n",
        "options = webdriver.ChromeOptions()\n",
        "options.add_argument('--headless')#バックグラウンド起動\n",
        "options.add_argument('--no-sandbox')#sandboxのoff\n",
        "options.add_argument('--disable-dev-shm-usage')#/dev/shmパーティションの使用禁止\n",
        "packtitle=input()\n",
        "#カード種類\n",
        "kc=80\n",
        "#plus1packの有無\n",
        "pls=0\n",
        "#遊戯王wikiのパック一覧にアクセス\n",
        "driver=webdriver.Chrome('chromedriver',options=options)\n",
        "driver.get(\"https://yugioh-wiki.net/index.php?%A5%AB%A1%BC%A5%C9%A5%EA%A5%B9%A5%C8#rcada79b\")\n",
        "#パックのページに移動\n",
        "packurl=driver.find_element_by_partial_link_text(packtitle).click()\n",
        "#ページ内にあるすべてのカードを取得\n",
        "cards = driver.find_elements_by_partial_link_text(\"》\")\n",
        "#取得したカードをtextに変換し、リストに保存\n",
        "cardlist=[]\n",
        "for card in cards:\n",
        "    cardlist.append(card.text)\n",
        "driver.close()\n",
        "driver.quit()\n",
        "#全てのカードのうちパックに入っているカードのみ抽出\n",
        "packcard=cardlist[-(kc+1):-1]\n",
        "if pls==0:\n",
        "    packcard.append(cardlist[-1])\n",
        "print(packcard)"
      ],
      "metadata": {
        "colab": {
          "base_uri": "https://localhost:8080/"
        },
        "id": "9-5xJQowTpgk",
        "outputId": "c5ebf270-b22a-4ecb-83db-048b1758d7f4"
      },
      "execution_count": 44,
      "outputs": [
        {
          "name": "stdout",
          "output_type": "stream",
          "text": [
            "深淵のデュエリスト編\n"
          ]
        },
        {
          "output_type": "stream",
          "name": "stderr",
          "text": [
            "/usr/local/lib/python3.7/dist-packages/ipykernel_launcher.py:18: DeprecationWarning: find_element_by_* commands are deprecated. Please use find_element() instead\n",
            "/usr/local/lib/python3.7/dist-packages/ipykernel_launcher.py:20: DeprecationWarning: find_elements_by_* commands are deprecated. Please use find_elements() instead\n"
          ]
        },
        {
          "output_type": "stream",
          "name": "stdout",
          "text": [
            "['《真紅眼の不死竜皇》', '《毒蛇の怨念》', '《Ｘ・Ｙ・Ｚハイパーキャノン》', '《劫火の眠り姫 ゴースト・スリーパー》', '《バーニングブラッド》', '《七皇転生》', '《七皇再生》', '《ジュラック・ギガノト》', '《ジュラック・ヴェロー》', '《犬タウルス》', '《爆走軌道フライング・ペガサス》', '《Ｎ・Ａｓ・Ｈ Ｋｎｉｇｈｔ》', '《ＣＸ－Ｎ・Ａｓ・Ｃｈ Ｋｎｉｇｈｔ》', '《海》', '《ＣＸ－Ｎ・Ａｓ・Ｃｈ Ｋｎｉｇｈｔ》', '《Ｎｏ.１０１ Ｓ・Ｈ・Ａｒｋ Ｋｎｉｇｈｔ》', '《アビス・シャーク》', '《クリスタル・シャーク》', '《Ｎ・Ａｓ・Ｈ Ｋｎｉｇｈｔ》', '《ＣＸ－Ｎ・Ａｓ・Ｃｈ Ｋｎｉｇｈｔ》', '《バリアンズ・カオス・ドロー》', '《七皇昇格》', '《不朽の七皇》', '《サイレント・アングラー》', '《エクシーズ・リモーラ》', '《ＣＮｏ.１０１ Ｓ・Ｈ・Ｄａｒｋ Ｋｎｉｇｈｔ》', '《バハムート・シャーク》', '《ＦＡ－ブラック・レイ・ランサー》', '《Ｎｏ.７１ リバリアン・シャーク》', '《ＲＵＭ－七皇の剣》', '《ＲＵＭ－クイック・カオス》', '《大要塞クジラ》', '《海竜神－リバイアサン》', '《デス・クラーケン》', '《電気海月－フィサリア－》', '《魚群探知機》', '《潜海奇襲ＩＩ》', '《暗岩の海竜神》', '《伝説のフィッシャーマン》', '《伝説のフィッシャーマン二世》', '《伝説のフィッシャーマン三世》', '《城塞クジラ》', '《海竜神の怒り》', '《海竜神の激昂》', '《激流葬》', '《潜海奇襲》', '《海晶乙女スプリンガール》', '《海晶乙女スリーピーメイデン》', '《海晶乙女コーラルトライアングル》', '《海晶乙女アクア・アルゴノート》', '《海晶乙女の潜逅》', '《海晶乙女環流》', '《海晶乙女渦輪》', '《海晶乙女シーホース》', '《海晶乙女パスカルス》', '《海晶乙女シーエンジェル》', '《海晶乙女コーラルアネモネ》', '《海晶乙女クリスタルハート》', '《海晶乙女ワンダーハート》', '《海晶乙女の闘海》', '《海晶乙女波動》']\n"
          ]
        }
      ]
    },
    {
      "cell_type": "code",
      "source": [
        ""
      ],
      "metadata": {
        "id": "-jA8psqdWK7b"
      },
      "execution_count": 23,
      "outputs": []
    }
  ]
}