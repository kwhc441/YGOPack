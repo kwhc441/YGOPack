{
  "nbformat": 4,
  "nbformat_minor": 0,
  "metadata": {
    "colab": {
      "name": "cardlistbypack.ipynb",
      "provenance": [],
      "authorship_tag": "ABX9TyPvTb0rL1hxCXSlCtvC5NYz",
      "include_colab_link": true
    },
    "kernelspec": {
      "name": "python3",
      "display_name": "Python 3"
    },
    "language_info": {
      "name": "python"
    }
  },
  "cells": [
    {
      "cell_type": "markdown",
      "metadata": {
        "id": "view-in-github",
        "colab_type": "text"
      },
      "source": [
        "<a href=\"https://colab.research.google.com/github/kwhc441/YGOPack/blob/main/cardlistbypack.ipynb\" target=\"_parent\"><img src=\"https://colab.research.google.com/assets/colab-badge.svg\" alt=\"Open In Colab\"/></a>"
      ]
    },
    {
      "cell_type": "code",
      "execution_count": 46,
      "metadata": {
        "colab": {
          "base_uri": "https://localhost:8080/"
        },
        "id": "Rt3S-cJbTZ9X",
        "outputId": "3ba15ca0-83b9-41d3-d686-48afe98289d9"
      },
      "outputs": [
        {
          "output_type": "stream",
          "name": "stdout",
          "text": [
            "Requirement already satisfied: selenium in /usr/local/lib/python3.7/dist-packages (4.1.0)\n",
            "Requirement already satisfied: trio-websocket~=0.9 in /usr/local/lib/python3.7/dist-packages (from selenium) (0.9.2)\n",
            "Requirement already satisfied: urllib3[secure]~=1.26 in /usr/local/lib/python3.7/dist-packages (from selenium) (1.26.7)\n",
            "Requirement already satisfied: trio~=0.17 in /usr/local/lib/python3.7/dist-packages (from selenium) (0.19.0)\n",
            "Requirement already satisfied: outcome in /usr/local/lib/python3.7/dist-packages (from trio~=0.17->selenium) (1.1.0)\n",
            "Requirement already satisfied: async-generator>=1.9 in /usr/local/lib/python3.7/dist-packages (from trio~=0.17->selenium) (1.10)\n",
            "Requirement already satisfied: idna in /usr/local/lib/python3.7/dist-packages (from trio~=0.17->selenium) (2.10)\n",
            "Requirement already satisfied: sniffio in /usr/local/lib/python3.7/dist-packages (from trio~=0.17->selenium) (1.2.0)\n",
            "Requirement already satisfied: attrs>=19.2.0 in /usr/local/lib/python3.7/dist-packages (from trio~=0.17->selenium) (21.2.0)\n",
            "Requirement already satisfied: sortedcontainers in /usr/local/lib/python3.7/dist-packages (from trio~=0.17->selenium) (2.4.0)\n",
            "Requirement already satisfied: wsproto>=0.14 in /usr/local/lib/python3.7/dist-packages (from trio-websocket~=0.9->selenium) (1.0.0)\n",
            "Requirement already satisfied: pyOpenSSL>=0.14 in /usr/local/lib/python3.7/dist-packages (from urllib3[secure]~=1.26->selenium) (21.0.0)\n",
            "Requirement already satisfied: cryptography>=1.3.4 in /usr/local/lib/python3.7/dist-packages (from urllib3[secure]~=1.26->selenium) (36.0.0)\n",
            "Requirement already satisfied: certifi in /usr/local/lib/python3.7/dist-packages (from urllib3[secure]~=1.26->selenium) (2021.10.8)\n",
            "Requirement already satisfied: cffi>=1.12 in /usr/local/lib/python3.7/dist-packages (from cryptography>=1.3.4->urllib3[secure]~=1.26->selenium) (1.15.0)\n",
            "Requirement already satisfied: pycparser in /usr/local/lib/python3.7/dist-packages (from cffi>=1.12->cryptography>=1.3.4->urllib3[secure]~=1.26->selenium) (2.21)\n",
            "Requirement already satisfied: six>=1.5.2 in /usr/local/lib/python3.7/dist-packages (from pyOpenSSL>=0.14->urllib3[secure]~=1.26->selenium) (1.15.0)\n",
            "Requirement already satisfied: h11<1,>=0.9.0 in /usr/local/lib/python3.7/dist-packages (from wsproto>=0.14->trio-websocket~=0.9->selenium) (0.12.0)\n",
            "Get:1 http://security.ubuntu.com/ubuntu bionic-security InRelease [88.7 kB]\n",
            "Hit:2 https://cloud.r-project.org/bin/linux/ubuntu bionic-cran40/ InRelease\n",
            "Ign:3 https://developer.download.nvidia.com/compute/cuda/repos/ubuntu1804/x86_64  InRelease\n",
            "Hit:4 http://ppa.launchpad.net/c2d4u.team/c2d4u4.0+/ubuntu bionic InRelease\n",
            "Ign:5 https://developer.download.nvidia.com/compute/machine-learning/repos/ubuntu1804/x86_64  InRelease\n",
            "Hit:6 https://developer.download.nvidia.com/compute/cuda/repos/ubuntu1804/x86_64  Release\n",
            "Hit:7 https://developer.download.nvidia.com/compute/machine-learning/repos/ubuntu1804/x86_64  Release\n",
            "Hit:8 http://archive.ubuntu.com/ubuntu bionic InRelease\n",
            "Hit:9 http://ppa.launchpad.net/cran/libgit2/ubuntu bionic InRelease\n",
            "Get:10 http://archive.ubuntu.com/ubuntu bionic-updates InRelease [88.7 kB]\n",
            "Get:11 http://security.ubuntu.com/ubuntu bionic-security/universe amd64 Packages [1,451 kB]\n",
            "Hit:12 http://ppa.launchpad.net/deadsnakes/ppa/ubuntu bionic InRelease\n",
            "Get:13 http://archive.ubuntu.com/ubuntu bionic-backports InRelease [74.6 kB]\n",
            "Hit:14 http://ppa.launchpad.net/graphics-drivers/ppa/ubuntu bionic InRelease\n",
            "Get:17 http://archive.ubuntu.com/ubuntu bionic-updates/main amd64 Packages [2,898 kB]\n",
            "Get:18 http://archive.ubuntu.com/ubuntu bionic-updates/universe amd64 Packages [2,229 kB]\n",
            "Fetched 6,830 kB in 3s (2,194 kB/s)\n",
            "Reading package lists... Done\n",
            "Reading package lists... Done\n",
            "Building dependency tree       \n",
            "Reading state information... Done\n",
            "chromium-chromedriver is already the newest version (95.0.4638.69-0ubuntu0.18.04.1).\n",
            "0 upgraded, 0 newly installed, 0 to remove and 67 not upgraded.\n",
            "cp: '/usr/lib/chromium-browser/chromedriver' and '/usr/bin/chromedriver' are the same file\n"
          ]
        }
      ],
      "source": [
        "!pip install selenium\n",
        "!apt-get update\n",
        "!apt install chromium-chromedriver\n",
        "!cp /usr/lib/chromium-browser/chromedriver /usr/bin\n"
      ]
    },
    {
      "cell_type": "code",
      "source": [
        "from selenium import webdriver\n",
        "#chromeのオプション設定\n",
        "options = webdriver.ChromeOptions()\n",
        "options.add_argument('--headless')#バックグラウンド起動\n",
        "options.add_argument('--no-sandbox')#sandboxのoff\n",
        "options.add_argument('--disable-dev-shm-usage')#/dev/shmパーティションの使用禁止\n",
        "packtitle=input()\n",
        "#カード種類\n",
        "kc=80\n",
        "#plus1packの有無\n",
        "pls=1\n",
        "#遊戯王wikiのパック一覧にアクセス\n",
        "driver=webdriver.Chrome('chromedriver',options=options)\n",
        "driver.get(\"https://yugioh-wiki.net/index.php?%A5%AB%A1%BC%A5%C9%A5%EA%A5%B9%A5%C8#rcada79b\")\n",
        "#パックのページに移動\n",
        "packurl=driver.find_element_by_partial_link_text(packtitle).click()\n",
        "#ページ内にあるすべてのカードを取得\n",
        "cards = driver.find_elements_by_partial_link_text(\"》\")\n",
        "#取得したカードをtextに変換し、リストに保存\n",
        "cardlist=[]\n",
        "for card in cards:\n",
        "    cardlist.append(card.text)\n",
        "driver.close()\n",
        "driver.quit()\n",
        "#全てのカードのうちパックに入っているカードのみ抽出\n",
        "packcard=cardlist[-(kc+1):-1]\n",
        "if pls==0:\n",
        "    packcard.append(cardlist[-1])\n",
        "print(packcard)"
      ],
      "metadata": {
        "colab": {
          "base_uri": "https://localhost:8080/"
        },
        "id": "9-5xJQowTpgk",
        "outputId": "9ad3b8b1-57ee-4674-cac7-aa673a1789c9"
      },
      "execution_count": 48,
      "outputs": [
        {
          "name": "stdout",
          "output_type": "stream",
          "text": [
            "DUELIST\n"
          ]
        },
        {
          "output_type": "stream",
          "name": "stderr",
          "text": [
            "/usr/local/lib/python3.7/dist-packages/ipykernel_launcher.py:16: DeprecationWarning: find_element_by_* commands are deprecated. Please use find_element() instead\n",
            "  app.launch_new_instance()\n",
            "/usr/local/lib/python3.7/dist-packages/ipykernel_launcher.py:18: DeprecationWarning: find_elements_by_* commands are deprecated. Please use find_elements() instead\n"
          ]
        },
        {
          "output_type": "stream",
          "name": "stdout",
          "text": [
            "['《魔道騎士ガイア》', '《呪われし竜－カース・オブ・ドラゴン》', '《砲撃のカタパルト・タートル》', '《暗黒騎士ガイアソルジャー》', '《教導の聖女エクレシア》', '《教導の鉄槌テオ》', '《教導の天啓アディン》', '《教導の騎士フルルドリス》', '《教導の大神祇官》', '《教導枢機テトラドラグマ》', '《アルバスの落胤》', '《焔聖騎士－アストルフォ》', '《焔聖騎士－オジエ》', '《焔聖騎士－オリヴィエ》', '《焔聖騎士－モージ》', '《メルフィー・ラビィ》', '《メルフィー・フェニィ》', '《メルフィー・キャシィ》', '《メルフィー・パピィ》', '《メルフィー・ポニィ》', '《ファーニマル・ドルフィン》', '《エッジインプ・サイズ》', '《享楽の堕天使》', '《悦楽の堕天使》', '《堕天使ネルガル》', '《マシンナーズ・リザーブレイク》', '《奇動装置メイルファクター》', '《斬機ダイア》', '《ネメシス・キーストーン》', '《コアキメイル・サプライヤー》', '《サンダー・ハンド》', '《機巧辰－高闇御津羽オカミ》', '《揺海魚デッドリーフ》', '《レッドポータン》', '《龍狸燈》', '《メガリス・フール》', '《竜魔道騎士ガイア》', '《灰燼竜バスタード》', '《デストーイ・クルーエル・ホエール》', '《黎明の堕天使ルシフェル》', '《焔聖騎士導－ローラン》', '《焔聖騎士帝－シャルル》', '《混沌魔龍 カオス・ルーラー》', '《森のメルフィーズ》', '《メルフィー・マミィ》', '《六花聖ストレナエ》', '《旋壊のヴェスペネイト》', '《戦華盟将－双龍》', '《走破するガイア》', '《螺旋融合》', '《教導国家ドラグマ》', '《天底の使徒》', '《『焔聖剣－デュランダル』》', '《『焔聖剣－オートクレール』》', '《『焔聖剣－ジョワユーズ』》', '《メルフィーのおいかけっこ》', '《メルフィーのかくれんぼ》', '《デストーイ・リペアー》', '《深海の都 マガラニカ》', '《戦華史略－東南之風》', '《魔救の奇縁》', '《三戦の才》', '《ブリザード》', '《海竜神の激昂》', '《禁じられた一滴》', '《天幻の龍輪》', '《賽挑戦》', '《螺旋砲撃》', '《螺旋蘇生》', '《ドラグマ・パニッシュメント》', '《ドラグマ・エンカウンター》', '《オリファンの角笛》', '《メルフィータイム》', '《魔玩具厄瓶》', '《叛逆の堕天使》', '《影依の偽典》', '《ドラゴンメイドのお片付け》', '《リターナブル瓶》', '《天龍雪獄》', '《ジャンクスリープ》']\n"
          ]
        }
      ]
    },
    {
      "cell_type": "code",
      "source": [
        ""
      ],
      "metadata": {
        "id": "-jA8psqdWK7b"
      },
      "execution_count": 23,
      "outputs": []
    }
  ]
}